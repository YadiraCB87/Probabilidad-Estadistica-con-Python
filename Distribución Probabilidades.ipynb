{
 "cells": [
  {
   "cell_type": "code",
   "execution_count": 25,
   "id": "20baa110",
   "metadata": {},
   "outputs": [],
   "source": [
    "# Importacion Librerias\n",
    "\n",
    "## Varables aleatorias discretas y continuas\n",
    "\n",
    "import numpy as pd\n",
    "import scipy.stats as ss\n",
    "import matplotlib.pyplot as plt\n",
    "import seaborn as sns\n",
    "from scipy.stats import hypergeom"
   ]
  },
  {
   "cell_type": "markdown",
   "id": "0ff8d514",
   "metadata": {},
   "source": [
    "### 1. Distribución binomial (Distribucion de Probabilidad Discreta) Se usa cuando se conoce una proporcion considerada exito\n",
    "\n",
    "### Una distribución binomial es una distribución de probabilidad discreta que describe el número de éxitos al realizar n experimentos independientes entre sí, acerca de una variable aleatoria. \n",
    "\n",
    "https://economipedia.com/definiciones/distribucion-binomial.html\n",
    "\n",
    "Un fabricante en California le suministra un diseño prototipo para una pieza de aeronave que requeire su negocio. Este uevo producto, que es enviado en lotes de n =12, sufre una tasa de defectos del 40%  A. Si usted no desea un riesgo mayor al 10% en la probabilidad de que 5 de los 12 sean defectuosos. ¿Deberia comprale a ese distribuidoe? B. Si usted no desea enfrentar un riesgo mayor del 20% de probabildiad de que mas de 5 salgan defectuosos. ¿Deberia comprarle a ese distribuidor?\n"
   ]
  },
  {
   "cell_type": "code",
   "execution_count": 26,
   "id": "219c39c3",
   "metadata": {},
   "outputs": [],
   "source": [
    "n_lotes = 12 ## Numero de lotes de prototipos de aeronaves tomados como muestra\n",
    "pi_lotes = 0.4 ## Porcentaje en la tasa de defectos de los lotes"
   ]
  },
  {
   "cell_type": "code",
   "execution_count": 27,
   "id": "400ef7a7",
   "metadata": {},
   "outputs": [],
   "source": [
    "## El problema dado se puede resolver usando una distribucion de probabilidad binomial\n",
    "distr_bin_lotes = ss.binom(n_lotes,pi_lotes)"
   ]
  },
  {
   "cell_type": "code",
   "execution_count": 28,
   "id": "6a339e69",
   "metadata": {},
   "outputs": [
    {
     "name": "stderr",
     "output_type": "stream",
     "text": [
      "C:\\Users\\ViG\\AppData\\Local\\Temp\\ipykernel_10344\\2693049159.py:5: UserWarning: \n",
      "\n",
      "`distplot` is a deprecated function and will be removed in seaborn v0.14.0.\n",
      "\n",
      "Please adapt your code to use either `displot` (a figure-level function with\n",
      "similar flexibility) or `histplot` (an axes-level function for histograms).\n",
      "\n",
      "For a guide to updating your code to use the new functions, please see\n",
      "https://gist.github.com/mwaskom/de44147ed2974457ad6372750bbe5751\n",
      "\n",
      "  ax = sns.distplot(data_binom,\n"
     ]
    },
    {
     "data": {
      "text/plain": [
       "[Text(0.5, 0, 'Valores'), Text(0, 0.5, 'Frequency')]"
      ]
     },
     "execution_count": 28,
     "metadata": {},
     "output_type": "execute_result"
    },
    {
     "data": {
      "image/png": "[encoded data removed]",
      "text/plain": [
       "<Figure size 640x480 with 1 Axes>"
      ]
     },
     "metadata": {},
     "output_type": "display_data"
    }
   ],
   "source": [
    "## Se grafica la distribucion segun los datos anteriores\n",
    "\n",
    "data_binom =ss.binom.rvs(n=n_lotes, p=pi_lotes,size=10000)\n",
    "\n",
    "ax = sns.distplot(data_binom,\n",
    "                 kde = False,\n",
    "                 color = \"purple\",\n",
    "                  hist_kws={\"linewidth\" : 15, 'alpha':1})\n",
    "ax.set(xlabel = \"Valores\" , ylabel = 'Frequency')                  "
   ]
  },
  {
   "cell_type": "markdown",
   "id": "f7524687",
   "metadata": {},
   "source": [
    "### A. Si usted no desea un riesgo mayor al 10% en la probabilidad de que 5 de los 12 sean defectuosos. ¿Deberia comprale a ese distribuidoe? R/ No deberia comprarle, ya que la probabilidad anda en un 20% de que salgan deffectuosas \n",
    "\n",
    "R/ La probabilidad es mayor al riesgo del 10% por lo cual no es recomendable realizar dicha compra"
   ]
  },
  {
   "cell_type": "code",
   "execution_count": 29,
   "id": "6979a2c4",
   "metadata": {},
   "outputs": [
    {
     "data": {
      "text/plain": [
       "0.22703033548800008"
      ]
     },
     "execution_count": 29,
     "metadata": {},
     "output_type": "execute_result"
    }
   ],
   "source": [
    "## Otra manera de resolverlo sin involucrar graficos\n",
    "\n",
    "x_lotes_a = 5  #Numero de lotes defectuosos a evaluar\n",
    "\n",
    "## Se usa la funcion pmf para determinar la probabilidad\n",
    "\n",
    "prob_lotes_a = distr_bin_lotes.pmf(x_lotes_a)\n",
    "prob_lotes_a"
   ]
  },
  {
   "cell_type": "markdown",
   "id": "e1630192",
   "metadata": {},
   "source": [
    "### B. Si usted no desea enfrentar un riesgo mayor del 20% de probabildiad de que mas de 5 salgan defectuosos. ¿Deberia comprarle a ese distribuidor? \n",
    "R/ La probabilidad es mayor al riesgo del 20% por lo cual no es recomendable realizar dicha compra"
   ]
  },
  {
   "cell_type": "code",
   "execution_count": 30,
   "id": "b12d59e3",
   "metadata": {},
   "outputs": [
    {
     "data": {
      "text/plain": [
       "0.3347914424319999"
      ]
     },
     "execution_count": 30,
     "metadata": {},
     "output_type": "execute_result"
    }
   ],
   "source": [
    "x_lotes_b = 5  #Numero de lotes defectuosos a evaluar\n",
    "\n",
    "## Se usa la funcion cdf para determinar la probabilidad, distribucion acumulada \n",
    "\n",
    "prob_lotes_b = 1- distr_bin_lotes.cdf(x_lotes_b)\n",
    "prob_lotes_b"
   ]
  },
  {
   "cell_type": "markdown",
   "id": "88d171a4",
   "metadata": {},
   "source": [
    "### 2. Distribucion Hipergeometrica (Distribucion discreta, tiene un parametro extra , tiene una poblacion total y una poblacion de muestra (un subconjunto))\n",
    "\n",
    "### La distribución hipergeométrica es una distribución discreta que modela el número de eventos en una muestra de tamaño fijo cuando usted conoce el número total de elementos en la población de la cual proviene la muestra.\n",
    "\n",
    "https://support.minitab.com/es-mx/minitab/21/help-and-how-to/probability-distributions-random-data-and-resampling-analyses/supporting-topics/distributions/hypergeometric-distribution/\n",
    "\n",
    "Una tienda de productos deportivos tiene en existencia N=20 pares de botas para esquiar de las cuales r=8 son de su talla. Si usted selecciona n=3 pares que usted desea, ¿Cual es la probabildiad de que X = 1 le quede bien?"
   ]
  },
  {
   "cell_type": "code",
   "execution_count": 31,
   "id": "a6148e8f",
   "metadata": {},
   "outputs": [],
   "source": [
    "N_botas = 20 # Poblacion total de pares de botas para esquiar\n",
    "r_botas = 8 # Numero de botas de nuestra talla\n",
    "n_botas = 3 # Numero de pares de botas seleccionado para la muestra\n",
    "\n",
    "distr_hyper_botas = ss.hypergeom.rvs(N_botas, r_botas, n_botas)"
   ]
  },
  {
   "cell_type": "code",
   "execution_count": 32,
   "id": "dacf5995",
   "metadata": {},
   "outputs": [
    {
     "name": "stderr",
     "output_type": "stream",
     "text": [
      "C:\\Users\\ViG\\AppData\\Local\\Temp\\ipykernel_10344\\3426741871.py:5: UserWarning: \n",
      "\n",
      "`distplot` is a deprecated function and will be removed in seaborn v0.14.0.\n",
      "\n",
      "Please adapt your code to use either `displot` (a figure-level function with\n",
      "similar flexibility) or `histplot` (an axes-level function for histograms).\n",
      "\n",
      "For a guide to updating your code to use the new functions, please see\n",
      "https://gist.github.com/mwaskom/de44147ed2974457ad6372750bbe5751\n",
      "\n",
      "  ax = sns.distplot(data_hyper,\n"
     ]
    },
    {
     "data": {
      "text/plain": [
       "[Text(0.5, 0, 'Valores'), Text(0, 0.5, 'Frequency')]"
      ]
     },
     "execution_count": 32,
     "metadata": {},
     "output_type": "execute_result"
    },
    {
     "data": {
      "image/png": "[encoded data removed]",
      "text/plain": [
       "<Figure size 640x480 with 1 Axes>"
      ]
     },
     "metadata": {},
     "output_type": "display_data"
    }
   ],
   "source": [
    "## Se grafica la distribucion segun los datos anteriores\n",
    "\n",
    "data_hyper = ss.hypergeom.rvs(N_botas, r_botas, n_botas, size =10000)\n",
    "\n",
    "ax = sns.distplot(data_hyper,\n",
    "                kde = False,\n",
    "                color = 'yellow',\n",
    "                hist_kws={\"linewidth\": 15, 'alpha':1})\n",
    "ax.set(xlabel ='Valores', ylabel = 'Frequency')"
   ]
  },
  {
   "cell_type": "code",
   "execution_count": 33,
   "id": "22aa3fc4",
   "metadata": {},
   "outputs": [],
   "source": [
    "## La probabilidad de que me queden 1 un par es del 50$, que me queden los 3 pares es menor al 10%"
   ]
  },
  {
   "cell_type": "code",
   "execution_count": 34,
   "id": "22190732",
   "metadata": {},
   "outputs": [
    {
     "data": {
      "text/plain": [
       "0.46315789473684216"
      ]
     },
     "execution_count": 34,
     "metadata": {},
     "output_type": "execute_result"
    }
   ],
   "source": [
    "## Comprobacion matematica\n",
    "\n",
    "# Parámetros de la distribución hipergeométrica\n",
    "\n",
    "N = 20  # Tamaño de la población\n",
    "K = 8  # Número total de elementos exitosos en la población\n",
    "n = 3   # Tamaño de la muestra\n",
    "\n",
    "# Crear una instancia de la distribución hipergeométrica\n",
    "distr_hyper_botas = hypergeom(N, K, n)\n",
    "\n",
    "x_botas = 1 # Numero de pares de botas seleccionado para la evaluacion\n",
    "\n",
    "prob_botas = distr_hyper_botas.pmf(x_botas) #pmf es un valor especifico \n",
    "prob_botas"
   ]
  },
  {
   "cell_type": "markdown",
   "id": "d2e02689",
   "metadata": {},
   "source": [
    "### 3. Distribucion de Poisson\n",
    "\n",
    "###  Poisson es una distribución de probabilidad discreta que se aplica a las ocurrencias de algún evento durante un periodo determinado. Es decir, es una distribución de probabilidad discreta en la que solo es necesario conocer los eventos y cuál es su frecuencia media de ocurrencia para poder conocer la probabilidad de que ocurran. \n",
    "\n",
    "https://www.sdelsol.com/blog/tendencias/distribucion-de-poisson/\n",
    "\n",
    "El cable utilizado para asegurar las estructuras de los puentes tiene un promedio de 3 defectos por cada 100 yardas. Si usted bbecesita 50 yardas, ¿Cual es el la probabilidad de que haya una defectuosa?"
   ]
  },
  {
   "cell_type": "code",
   "execution_count": 35,
   "id": "e69d3ccb",
   "metadata": {},
   "outputs": [],
   "source": [
    "mu_yardas = (3/100) # Numero de promedio de defectos por cada unidad de yardas\n",
    "n_yardas = 50 # Numero de Yardas del cable a tener en cuenta\n",
    "\n",
    "mu_yardas_cable = (mu_yardas * n_yardas)\n",
    "distr=poi_yardas = ss.poisson(mu_yardas_cable)"
   ]
  },
  {
   "cell_type": "code",
   "execution_count": 36,
   "id": "3461759c",
   "metadata": {},
   "outputs": [
    {
     "name": "stderr",
     "output_type": "stream",
     "text": [
      "C:\\Users\\ViG\\AppData\\Local\\Temp\\ipykernel_10344\\1690089217.py:3: UserWarning: \n",
      "\n",
      "`distplot` is a deprecated function and will be removed in seaborn v0.14.0.\n",
      "\n",
      "Please adapt your code to use either `displot` (a figure-level function with\n",
      "similar flexibility) or `histplot` (an axes-level function for histograms).\n",
      "\n",
      "For a guide to updating your code to use the new functions, please see\n",
      "https://gist.github.com/mwaskom/de44147ed2974457ad6372750bbe5751\n",
      "\n",
      "  ax = sns.distplot(data_poiss,\n"
     ]
    },
    {
     "data": {
      "text/plain": [
       "[Text(0.5, 0, 'Valores'), Text(0, 0.5, 'Frequency')]"
      ]
     },
     "execution_count": 36,
     "metadata": {},
     "output_type": "execute_result"
    },
    {
     "data": {
      "image/png": "[encoded data removed]",
      "text/plain": [
       "<Figure size 640x480 with 1 Axes>"
      ]
     },
     "metadata": {},
     "output_type": "display_data"
    }
   ],
   "source": [
    "data_poiss = ss.poisson.rvs(mu_yardas_cable,size = 10000)\n",
    "\n",
    "ax = sns.distplot(data_poiss,\n",
    "                 kde = False,\n",
    "                 color ='red',\n",
    "                 hist_kws={\"linewidth\" : 15, 'alpha' :1})\n",
    "ax.set(xlabel = 'Valores', ylabel ='Frequency')"
   ]
  },
  {
   "cell_type": "code",
   "execution_count": 37,
   "id": "59a36a8a",
   "metadata": {},
   "outputs": [],
   "source": [
    "## Segun el grafico no se encontraran mas de 8 defectos de cada 100\n",
    "\n",
    "## Casi un 40% para que haya 1 defectuosa\n",
    "\n",
    "# ¿Cual es la probabilidad de que haya una defectuosa?\n",
    "\n",
    "n_yardas = 50 # Numero de Yardas del cable a tener en cuenta\n",
    "x_cables = 1 # Numero de cables tomados para evaluar si estan defectuosos"
   ]
  },
  {
   "cell_type": "code",
   "execution_count": 38,
   "id": "4ea3ec01",
   "metadata": {},
   "outputs": [
    {
     "data": {
      "text/plain": [
       "0.33469524022264474"
      ]
     },
     "execution_count": 38,
     "metadata": {},
     "output_type": "execute_result"
    }
   ],
   "source": [
    "prob_yardas = distr=poi_yardas.pmf(x_cables)\n",
    "prob_yardas"
   ]
  },
  {
   "cell_type": "markdown",
   "id": "5ecf174b",
   "metadata": {},
   "source": [
    "### 4. Distribucion Exponencial (Es continua)\n",
    "\n",
    "### Se refiere a la cantidad de tiempo que transcurre hasta que se produce algún evento específico. Por ejemplo, la cantidad de tiempo (que comienza ahora) hasta que se produzca un terremoto tiene una distribución exponencial.\n",
    "\n",
    "https://openstax.org/books/introducci%C3%B3n-estad%C3%ADstica-empresarial/pages/5-3-la-distribucion-exponencial\n",
    "\n",
    "Como Gerente de Burguer Heaven, usted observa que los clientes entran a su establecimiento a razon de 8 por hora. ¿Cual es la probabilidad de que pasen mas de 15 minutos entre la llegada de dos clientes?\n",
    "\n"
   ]
  },
  {
   "cell_type": "code",
   "execution_count": 39,
   "id": "40001f84",
   "metadata": {},
   "outputs": [],
   "source": [
    "mu_exp = (60/8) # Tasa promedio de entradas de los clientes al establecimientos por  minuto"
   ]
  },
  {
   "cell_type": "code",
   "execution_count": 40,
   "id": "1abff267",
   "metadata": {},
   "outputs": [
    {
     "name": "stderr",
     "output_type": "stream",
     "text": [
      "C:\\Users\\ViG\\AppData\\Local\\Temp\\ipykernel_10344\\4182644035.py:3: UserWarning: \n",
      "\n",
      "`distplot` is a deprecated function and will be removed in seaborn v0.14.0.\n",
      "\n",
      "Please adapt your code to use either `displot` (a figure-level function with\n",
      "similar flexibility) or `histplot` (an axes-level function for histograms).\n",
      "\n",
      "For a guide to updating your code to use the new functions, please see\n",
      "https://gist.github.com/mwaskom/de44147ed2974457ad6372750bbe5751\n",
      "\n",
      "  ax = sns.distplot(data_exp,\n"
     ]
    },
    {
     "data": {
      "text/plain": [
       "[Text(0.5, 0, 'Valores'), Text(0, 0.5, 'Frequency')]"
      ]
     },
     "execution_count": 40,
     "metadata": {},
     "output_type": "execute_result"
    },
    {
     "data": {
      "image/png": "[encoded data removed]",
      "text/plain": [
       "<Figure size 640x480 with 1 Axes>"
      ]
     },
     "metadata": {},
     "output_type": "display_data"
    }
   ],
   "source": [
    "data_exp = ss.expon.rvs(mu_exp,size=10000)\n",
    "\n",
    "ax = sns.distplot(data_exp,\n",
    "                 kde = False,\n",
    "                 color = 'green',\n",
    "                 hist_kws={\"linewidth\" : 15, 'alpha':1})\n",
    "ax.set(xlabel = 'Valores', ylabel ='Frequency')"
   ]
  },
  {
   "cell_type": "code",
   "execution_count": 41,
   "id": "38d88688",
   "metadata": {},
   "outputs": [
    {
     "name": "stdout",
     "output_type": "stream",
     "text": [
      "Object `clientes` not found.\n"
     ]
    },
    {
     "data": {
      "text/plain": [
       "0.1353352832366127"
      ]
     },
     "execution_count": 41,
     "metadata": {},
     "output_type": "execute_result"
    }
   ],
   "source": [
    "## La probabilidad se mide del umero 15 hacia la derecha, que muestra que es menor a 20% exactamente un 0.13%. (13%)\n",
    "\n",
    "¿Cual es la probabildidad de que pasen mas de 15 minutos entre la llegada de dos clientes?\n",
    "\n",
    "x_exp = 15 # Minutos a evaluar entre la entrada de 2 clientes\n",
    "\n",
    "prob_exp = 1 - ss.expon.cdf(x_exp, loc=0, scale=mu_exp)\n",
    "prob_exp"
   ]
  },
  {
   "cell_type": "markdown",
   "id": "18c80bb8",
   "metadata": {},
   "source": [
    "### 5. Disitribucion Uniforme (Determinar probabilidades)(Continua)\n",
    "\n",
    "### Es una distribución de probabilidad continua y se refiere a eventos que tienen la misma probabilidad de ocurrir. Cuando se resuelven problemas que tienen una distribución uniforme, hay que tener en cuenta si los datos son inclusivos o excluyentes de los extremos.\n",
    "\n",
    "https://openstax.org/books/introducci%C3%B3n-estad%C3%ADstica-empresarial/pages/5-2-la-distribucion-uniforme\n",
    "\n",
    "Los tiempos de terminacion de un trabajo oscilan entre 10.2 minutos a 18.3 minutos y se piensan que estan distribuidos uniformemente. ¿Cual es la probabilidad de que se requeiere entre 12.7 y 14.5 minutos para realizar este trabajo?\n"
   ]
  },
  {
   "cell_type": "code",
   "execution_count": 42,
   "id": "303928f0",
   "metadata": {},
   "outputs": [],
   "source": [
    "a_unif =10.2 # Tiempo minimo de terminacion de un trabajo\n",
    "b_unif = 18.3 # Tiempo maximo de terminacion de un trabajo\n",
    "rango_unif = b_unif - a_unif # Rango de oscilacion de la terminacion de los trabajos general\n",
    "\n",
    "distr_unif_trabajos = ss.uniform(a_unif, rango_unif)"
   ]
  },
  {
   "cell_type": "code",
   "execution_count": 43,
   "id": "0e27ebe3",
   "metadata": {},
   "outputs": [
    {
     "name": "stderr",
     "output_type": "stream",
     "text": [
      "C:\\Users\\ViG\\AppData\\Local\\Temp\\ipykernel_10344\\2637892179.py:3: UserWarning: \n",
      "\n",
      "`distplot` is a deprecated function and will be removed in seaborn v0.14.0.\n",
      "\n",
      "Please adapt your code to use either `displot` (a figure-level function with\n",
      "similar flexibility) or `histplot` (an axes-level function for histograms).\n",
      "\n",
      "For a guide to updating your code to use the new functions, please see\n",
      "https://gist.github.com/mwaskom/de44147ed2974457ad6372750bbe5751\n",
      "\n",
      "  ax = sns.distplot(data_unif,\n"
     ]
    },
    {
     "data": {
      "text/plain": [
       "[Text(0.5, 0, 'Valores'), Text(0, 0.5, 'Frequency')]"
      ]
     },
     "execution_count": 43,
     "metadata": {},
     "output_type": "execute_result"
    },
    {
     "data": {
      "image/png": "[encoded data removed]",
      "text/plain": [
       "<Figure size 640x480 with 1 Axes>"
      ]
     },
     "metadata": {},
     "output_type": "display_data"
    }
   ],
   "source": [
    "data_unif = ss.uniform.rvs(a_unif, rango_unif, size=10000)\n",
    "\n",
    "ax = sns.distplot(data_unif,\n",
    "                 kde = False,\n",
    "                  color ='pink',\n",
    "                  hist_kws={\"linewidth\" :15, 'alpha' :1})\n",
    "ax.set(xlabel ='Valores', ylabel ='Frequency')"
   ]
  },
  {
   "cell_type": "code",
   "execution_count": 44,
   "id": "9a31ddbd",
   "metadata": {},
   "outputs": [
    {
     "data": {
      "text/plain": [
       "0.22222222222222232"
      ]
     },
     "execution_count": 44,
     "metadata": {},
     "output_type": "execute_result"
    }
   ],
   "source": [
    "# ¿Cual es la probabilidad de que se requiera entre 12.7 y 14.5 minutos para realizar este trabajo?\n",
    "\n",
    "a_trabajo = 12.7 # Tiempo minimo a evaluar de la terminacion de un trabajo\n",
    "b_trabajo = 14.5 # Tiempo maximo a evaluar de la terminacion de un trabajo\n",
    "rango_trabajo = a_trabajo -b_trabajo # Rango de la oscilacion de la terminacion de los trabajos a evaluar\n",
    "\n",
    "prob_unif = distr = distr_unif_trabajos.cdf(b_trabajo) - distr_unif_trabajos.cdf(a_trabajo)\n",
    "prob_unif"
   ]
  },
  {
   "cell_type": "markdown",
   "id": "458cae88",
   "metadata": {},
   "source": [
    "### 6. Distribucion normal (Continua)\n",
    "\n",
    "### La distribución normal (en ocasiones llamada distribución gaussiana) es la distribución continua que se utiliza más comúnmente en estadística, es un modelo que aproxima el valor de una variable aleatoria a una situación ideal, dependiendo de la media y la desviación típica.\n",
    "\n",
    "https://www.gestiopolis.com/que-es-la-distribucion-normal/\n",
    "\n",
    "El ministerio de agricultura de Estados Unidos en un estudio sobre cultivos ha detectado que las precipitaciones diarias en ciertos lugares de Hawai parecen estar distribuidas normalmente con una media de 2.2 pulgadas durante la estacion lluviosa. Se determino que la desviacion estandar era de 0.8 pulgadas. A. ¿Cual es la probabilidad de que llueva mas de 3.3 pulgadas en un dia durante la estacion lluviosa?. B. Encuentre la probabilidad de que llueva mas de1.3 pulgadas? C. ¿Cual es la probabilidad de que las precipicataciones esten entre 2.7 y 3.0 pulgadas?. D.¿Cuanta precipitacion debe presentarse para exceder el 10% de las precipitaciones diarias?"
   ]
  },
  {
   "cell_type": "code",
   "execution_count": 45,
   "id": "b7b1972e",
   "metadata": {},
   "outputs": [],
   "source": [
    "mu_precip = 2.2 # Valor promedio de pulgadas que se precipitan diariamente\n",
    "rho_precip = 0.8 #Desviacion estandar de pulgadas que se precipitan diariamente\n",
    "\n",
    "distr_norm_precip = ss.norm(mu_precip, rho_precip)"
   ]
  },
  {
   "cell_type": "code",
   "execution_count": 47,
   "id": "ad08e4d7",
   "metadata": {},
   "outputs": [
    {
     "name": "stderr",
     "output_type": "stream",
     "text": [
      "C:\\Users\\ViG\\AppData\\Local\\Temp\\ipykernel_10344\\1693767148.py:3: UserWarning: \n",
      "\n",
      "`distplot` is a deprecated function and will be removed in seaborn v0.14.0.\n",
      "\n",
      "Please adapt your code to use either `displot` (a figure-level function with\n",
      "similar flexibility) or `histplot` (an axes-level function for histograms).\n",
      "\n",
      "For a guide to updating your code to use the new functions, please see\n",
      "https://gist.github.com/mwaskom/de44147ed2974457ad6372750bbe5751\n",
      "\n",
      "  ax = sns.distplot(data_norm,\n"
     ]
    },
    {
     "data": {
      "text/plain": [
       "[Text(0.5, 0, 'Valores'), Text(0, 0.5, 'Frequency')]"
      ]
     },
     "execution_count": 47,
     "metadata": {},
     "output_type": "execute_result"
    },
    {
     "data": {
      "image/png": "[encoded data removed]",
      "text/plain": [
       "<Figure size 640x480 with 1 Axes>"
      ]
     },
     "metadata": {},
     "output_type": "display_data"
    }
   ],
   "source": [
    "data_norm = ss.norm.rvs(mu_precip,rho_precip,size=10000)\n",
    "\n",
    "ax = sns.distplot(data_norm,\n",
    "                kde = False,\n",
    "                color = 'blue',\n",
    "                hist_kws={\"linewidth\": 15, 'alpha':1})\n",
    "ax.set(xlabel = 'Valores', ylabel = 'Frequency')\n",
    "         "
   ]
  },
  {
   "cell_type": "code",
   "execution_count": 49,
   "id": "404e3cdf",
   "metadata": {},
   "outputs": [
    {
     "data": {
      "text/plain": [
       "0.08456572235133575"
      ]
     },
     "execution_count": 49,
     "metadata": {},
     "output_type": "execute_result"
    }
   ],
   "source": [
    "# A.¿Cual es ña probabilidad de que llueva mas de 3.3 pulgadas en un dia durante la estacion lluviosa?\n",
    "\n",
    "x_precip_a = 3.3 # Pulgadas precipitadas a evaluar\n",
    "\n",
    "prob_precip_a = 1 - distr_norm_precip.cdf(3.3)\n",
    "prob_precip_a"
   ]
  },
  {
   "cell_type": "code",
   "execution_count": 50,
   "id": "863284eb",
   "metadata": {},
   "outputs": [
    {
     "data": {
      "text/plain": [
       "0.8697054828631912"
      ]
     },
     "execution_count": 50,
     "metadata": {},
     "output_type": "execute_result"
    }
   ],
   "source": [
    "#B. Encuentre la probabilidad de que llueva mas de 1.3 pulgadas\n",
    "\n",
    "x_precip_b = 1.3 #pulgadas precipatadas a evaluar\n",
    "\n",
    "prob_precip_b = 1 - distr_norm_precip.cdf(1.3)\n",
    "prob_precip_b"
   ]
  },
  {
   "cell_type": "code",
   "execution_count": 51,
   "id": "b8556d10",
   "metadata": {},
   "outputs": [
    {
     "data": {
      "text/plain": [
       "0.10733027511724347"
      ]
     },
     "execution_count": 51,
     "metadata": {},
     "output_type": "execute_result"
    }
   ],
   "source": [
    "# C. ¿Cual es la probabilidad de que las precipitaciones esten entre 2.7 y 3.0 pulgadas?\n",
    "\n",
    "x1_precip_c = 2.7 #Pulgadas minimas precipitaciones a evaluar\n",
    "x2_precip_c = 3 # Pulgadas maximas precipitaciones a evaluar\n",
    "\n",
    "prob_precip_c = distr_norm_precip.cdf(3) - distr_norm_precip.cdf(2.7)\n",
    "prob_precip_c"
   ]
  },
  {
   "cell_type": "code",
   "execution_count": 53,
   "id": "3fa892e8",
   "metadata": {},
   "outputs": [
    {
     "data": {
      "text/plain": [
       "1.1747587475643197"
      ]
     },
     "execution_count": 53,
     "metadata": {},
     "output_type": "execute_result"
    }
   ],
   "source": [
    "# D. ¿Cuanta precipitacion debe presentarse para exceder el 10% de las precipitaciones diarias?\n",
    "\n",
    "prob_precip_d = 0.1 #Probabilidad de que ocurran 'X' numero de precipitaciones diarias\n",
    "\n",
    "distr_norm_precip.ppf(0.1)\n"
   ]
  },
  {
   "cell_type": "code",
   "execution_count": null,
   "id": "d07ce6e2",
   "metadata": {},
   "outputs": [],
   "source": []
  }
 ],
 "metadata": {
  "kernelspec": {
   "display_name": "Python 3 (ipykernel)",
   "language": "python",
   "name": "python3"
  },
  "language_info": {
   "codemirror_mode": {
    "name": "ipython",
    "version": 3
   },
   "file_extension": ".py",
   "mimetype": "text/x-python",
   "name": "python",
   "nbconvert_exporter": "python",
   "pygments_lexer": "ipython3",
   "version": "3.9.7"
  }
 },
 "nbformat": 4,
 "nbformat_minor": 5
}
